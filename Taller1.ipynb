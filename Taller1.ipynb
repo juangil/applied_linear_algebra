{
 "metadata": {
  "name": ""
 },
 "nbformat": 3,
 "nbformat_minor": 0,
 "worksheets": [
  {
   "cells": [
    {
     "cell_type": "heading",
     "level": 1,
     "metadata": {},
     "source": [
      "Taller #1 de algebra lineal aplicada"
     ]
    },
    {
     "cell_type": "heading",
     "level": 2,
     "metadata": {},
     "source": [
      "Presentado por: Juan David Gil L\u00f3pez, Maestr\u00eda en Ingenier\u00eda de Sistemas y Computaci\u00f3n\n"
     ]
    },
    {
     "cell_type": "markdown",
     "metadata": {},
     "source": [
      "Se Presentar\u00e1 el m\u00e9todo de eliminaci\u00f3n gaussiana y su precisi\u00f3n como se sugiere en el texto gu\u00eda de la materia de algebra lineal aplicada: Applied Linear Algebra and Matrix Abalysis.\n",
      "\n",
      "Para esto y seg\u00fan lo planteado en el texto gu\u00eda se uso la librer\u00eda numpy y scipy de python que ofrece unas herramientas que facilitan la soluci\u00f3n de sistemas lineales de ecuaciones. Inicialmente y como se propone en en el texto gu\u00eda se trabaja con una matriz de Hilbert de n = 4,8,12 y 16. A continuaci\u00f3n se presenta el c\u00f3digo para calcular la precisi\u00f3n de la eliminaci\u00f3n Gaussiana para diferentes n de una matriz de hilbert:"
     ]
    },
    {
     "cell_type": "code",
     "collapsed": false,
     "input": [
      "import numpy\n",
      "import scipy.linalg\n",
      "\n",
      "several_sizes = [4,8,12,16]\n",
      "\n",
      "for i in several_sizes:\n",
      "\tA = numpy.empty((i,i))    # Creating a matrix filled with nothing\n",
      "\treal_sol = numpy.ones((i))\t# Creating the real solution, all 1\n",
      "\tfor j in range(1,i+1):\n",
      "\t\tfor k in range(1,i+1):\n",
      "\t\t\tA[j-1,k-1] = 1.0/(j + k - 1) # Filling the empty matrix\n",
      "\t\n",
      "\tif(i == 4):\n",
      "\t\tprint \"Matriz de Hilbert de 4 x 4:\"\n",
      "\t\tprint A\n",
      "        print        \n",
      "\n",
      "\tb = numpy.empty((i)) # Creating the column vector b\n",
      "\tfor j in range(0,i):\n",
      "\t\tres = 0.0\n",
      "\t\tfor k in range(0,i):\n",
      "\t\t\tres += A[j,k]\n",
      "\t\tb[j] = res\n",
      "\n",
      "\tif(i == 4):\n",
      "\t\tprint \"Solucion cuando todas las variables son igual a 1:\"\n",
      "\t\tprint b\n",
      "\t\tprint\n",
      "\n",
      "\tX_sol = numpy.linalg.solve(A,b) # Computing the solution with the gausssian elimination solver from numpy\n",
      "\tmayor = 0.0;\n",
      "\tfor j in range(0,i):\n",
      "\t\ttmp = numpy.fabs(X_sol[j] - real_sol[j])\n",
      "\t\tif(tmp > mayor):\n",
      "\t\t\tmayor = tmp\n",
      "\tprint \"Para una matriz de Hilbert de dimensi\u00f3n\",i,\" el error de la E.G es: \", mayor\n",
      "\t\n"
     ],
     "language": "python",
     "metadata": {},
     "outputs": [
      {
       "output_type": "stream",
       "stream": "stdout",
       "text": [
        "Matriz de Hilbert de 4 x 4:\n",
        "[[ 1.          0.5         0.33333333  0.25      ]\n",
        " [ 0.5         0.33333333  0.25        0.2       ]\n",
        " [ 0.33333333  0.25        0.2         0.16666667]\n",
        " [ 0.25        0.2         0.16666667  0.14285714]]\n",
        "\n",
        "Solucion cuando todas las variables son igual a 1:\n",
        "[ 2.08333333  1.28333333  0.95        0.75952381]\n",
        "\n",
        "Para una matriz de Hilbert de dimensi\u00f3n 4  el error de la E.G es:  5.28799226629e-13\n",
        "\n",
        "Para una matriz de Hilbert de dimensi\u00f3n 8  el error de la E.G es:  7.97600281599e-07\n",
        "\n",
        "Para una matriz de Hilbert de dimensi\u00f3n 12  el error de la E.G es:  0.263912268358\n",
        "\n",
        "Para una matriz de Hilbert de dimensi\u00f3n 16  el error de la E.G es:  25.874318295\n"
       ]
      }
     ],
     "prompt_number": 14
    },
    {
     "cell_type": "markdown",
     "metadata": {},
     "source": [
      "Se puede ver la salida del c\u00f3digo anterior como ejemplo de una matriz de Hilbert solo se muestra la de dimensi\u00f3n 4 x 4 con su respectivo vector de soluci\u00f3n cuando todas las variables son igual a 1, ahora se puede ver que como aumenta la dimensi\u00f3n de la matriz de coeficientes, aumenta tambi\u00e9n el error del m\u00e9todo de eliminaci\u00f3n Gaussiana, n\u00f3tese que para una matriz de dimensi\u00f3n 16 x 16, el error es del orden del 25%."
     ]
    },
    {
     "cell_type": "markdown",
     "metadata": {},
     "source": [
      "Ahora el otro ejemplo propuesto en el texto gu\u00eda consiste en crear varias matrices con dimensiones iguales a la de Hilbert y adem\u00e1s de eso que cada entrada de la matriz corresponda a un n\u00famero aleatorio entre cero y uno. Veamos, el proceso es muy similar al anterior, solo que la matriz de coeficientes es aleatoria, veamos el c\u00f3digo:"
     ]
    },
    {
     "cell_type": "code",
     "collapsed": false,
     "input": [
      "import numpy\n",
      "import scipy.linalg\n",
      "\n",
      "several_sizes = [4,8,12,16]\n",
      "\n",
      "for i in several_sizes:\n",
      "\tA = numpy.random.uniform(0,1,size=(i,i))\n",
      "\tif(i == 4):\n",
      "\t\tprint \"Matriz aleatoria de 4 x 4:\"\n",
      "\t\tprint A\n",
      "        print \n",
      "\n",
      "\treal_sol = numpy.ones((i))\n",
      "\tb = numpy.empty((i))\n",
      "\tfor j in range(0,i):\n",
      "\t\tres = 0.0\n",
      "\t\tfor k in range(0,i):\n",
      "\t\t\tres += A[j,k]\n",
      "\t\tb[j] = res\t\n",
      "\n",
      "\tif(i == 4):\n",
      "\t\tprint \"Solucion cuando todas las variables son igual a 1:\"\n",
      "\t\tprint b\n",
      "\t\tprint\n",
      "\n",
      "\tX_sol = numpy.linalg.solve(A,b)\n",
      "\tmayor = 0.0;\n",
      "\tfor j in range(0,i):\n",
      "\t\ttmp = numpy.fabs(X_sol[j] - real_sol[j])\n",
      "\t\tif(tmp > mayor):\n",
      "\t\t\tmayor = tmp\n",
      "\tprint \"for a Random matrix of size \",i,\" the error of G.E: \", mayor\n",
      "\t"
     ],
     "language": "python",
     "metadata": {},
     "outputs": [
      {
       "output_type": "stream",
       "stream": "stdout",
       "text": [
        "Matriz aleatoria de 4 x 4:\n",
        "[[ 0.62243689  0.54462357  0.50135462  0.12219401]\n",
        " [ 0.14132815  0.33440876  0.52462481  0.66099318]\n",
        " [ 0.55764813  0.55748743  0.5007759   0.16288614]\n",
        " [ 0.3797585   0.3855012   0.40285915  0.30430247]]\n",
        "\n",
        "Solucion cuando todas las variables son igual a 1:\n",
        "[ 1.79060909  1.6613549   1.7787976   1.47242132]\n",
        "\n",
        "for a Random matrix of size  4  the error of G.E:  7.9936057773e-15\n",
        "\n",
        "for a Random matrix of size  8  the error of G.E:  1.55431223448e-15\n",
        "\n",
        "for a Random matrix of size  12  the error of G.E:  1.97619698383e-14\n",
        "\n",
        "for a Random matrix of size  16  the error of G.E:  5.55111512313e-15\n"
       ]
      }
     ],
     "prompt_number": 16
    },
    {
     "cell_type": "markdown",
     "metadata": {},
     "source": [
      "Para este ejemplo, el error si se mantiene bastante bajo en relaci\u00f3n con el ejemplo anterior, al parecer el m\u00e9todo se mantiene estable para cualquier condiguraci\u00f3n de matrices con n\u00fameros aleatorios de 0 a 1. A lo que se debe este tipo de errores es al hecho de que hay matrices que no estan bien condicionadas lo que ocasionan que el m\u00e9todo no responda de la manera adecuada y de valores de soluci\u00f3n con el error alto que aparece reportado."
     ]
    }
   ],
   "metadata": {}
  }
 ]
}